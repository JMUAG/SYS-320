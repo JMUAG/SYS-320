{
 "cells": [
  {
   "cell_type": "code",
   "execution_count": 30,
   "metadata": {},
   "outputs": [
    {
     "data": {
      "text/plain": [
       "<module 'proxyLog2' from '/Users/jahseem/SYS-320-SP22/Week2/homework/proxyLog2.py'>"
      ]
     },
     "execution_count": 30,
     "metadata": {},
     "output_type": "execute_result"
    }
   ],
   "source": [
    "import apacheLog\n",
    "import proxyLog, proxyLog2\n",
    "import importlib\n",
    "importlib.reload(apacheLog)\n",
    "importlib.reload(proxyLog)\n",
    "importlib.reload(proxyLog2)"
   ]
  },
  {
   "cell_type": "markdown",
   "metadata": {},
   "source": [
    "### Apache PHP\n"
   ]
  },
  {
   "cell_type": "code",
   "execution_count": 31,
   "metadata": {},
   "outputs": [
    {
     "name": "stdout",
     "output_type": "stream",
     "text": [
      "404 GET /wordpress/wp-login.php\n",
      "404 GET /mediawiki/index.php?title=Main_Page\n"
     ]
    }
   ],
   "source": [
    "apacheLog.apache_events('../../logs/access.log', 'apache', 'php')"
   ]
  },
  {
   "cell_type": "code",
   "execution_count": 32,
   "metadata": {},
   "outputs": [
    {
     "name": "stdout",
     "output_type": "stream",
     "text": [
      "404 GET /cgi-bin/test-cgi\n",
      "404 POST /cgi-bin/test-cgi\n",
      "404 GET /cgi-bin/htsearch?Exclude=%60/etc/passwd%60\n"
     ]
    }
   ],
   "source": [
    "apacheLog.apache_events('../../logs/access.log', 'apache', 'cgi')"
   ]
  },
  {
   "cell_type": "markdown",
   "metadata": {},
   "source": [
    "### Proxy Security"
   ]
  },
  {
   "cell_type": "code",
   "execution_count": 33,
   "metadata": {},
   "outputs": [
    {
     "name": "stdout",
     "output_type": "stream",
     "text": [
      "QQ.exe tcpconn3.tencent.com:443  close, 149 bytes  sent,  121  \n",
      "QQ.exe cgi.qqweb.qq.com:80  close, 477 bytes  sent,  448  \n",
      "QQ.exe tcpconn.tencent.com:80  open through proxy  proxy.cse.cuhk.edu.hk:5070  HTTPS  \n",
      "QQExternal.exe proxy.cse.cuhk.edu.hk:5070  close, 1644 bytes  (1.60  KB)  \n",
      "QQProtectUpd.exe qdun-data.qq.com:443  close, 261 bytes  sent,  70  \n",
      "QQ.exe tcpconn6.tencent.com:80  close, 0 bytes  sent,  0  \n",
      "QQ.exe cgi.qqweb.qq.com:80  open through proxy  proxy.cse.cuhk.edu.hk:5070  HTTPS  \n",
      "QQProtectUpd.exe qd-update.qq.com:8080  error : Could  not  connect  \n",
      "QQ.exe qqmail.tencent.com:80  close, 336 bytes  sent,  2854  \n",
      "QQ.exe 2052.flash2-http.qq.com:80  close, 466 bytes  sent,  125682  \n",
      "QQ.exe showxml.qq.com:80  close, 600 bytes  sent,  1716  \n",
      "QQ.exe tcpconn3.tencent.com:443  open through proxy  proxy.cse.cuhk.edu.hk:5070  HTTPS  \n",
      "QQ.exe tcpconn3.tencent.com:80  close, 0 bytes  sent,  0  \n",
      "QQ.exe tcpconn6.tencent.com:80  open through proxy  proxy.cse.cuhk.edu.hk:5070  HTTPS  \n",
      "QQ.exe tcpconn.tencent.com:80  close, 133 bytes  sent,  0  \n",
      "QQProtectUpd.exe qdun-data.qq.com:443  open through proxy  proxy.cse.cuhk.edu.hk:5070  HTTPS  \n",
      "QQ.exe tcpconn6.tencent.com:443  close, 0 bytes  sent,  0  \n",
      "QQ.exe tcpconn6.tencent.com:443  open through proxy  proxy.cse.cuhk.edu.hk:5070  HTTPS  \n",
      "QQ.exe tcpconn6.tencent.com:443  error : A  connection  request  \n",
      "QQPlayer.exe btrace.qq.com:80  open through proxy  proxy.cse.cuhk.edu.hk:5070  HTTPS  \n",
      "QQ.exe tcpconn4.tencent.com:80  error : Could  not  connect  \n",
      "QQ.exe 183.60.49.182:443  open through proxy  proxy.cse.cuhk.edu.hk:5070  HTTPS  \n"
     ]
    }
   ],
   "source": [
    "proxyLog.proxy_events('../../logs/Proxifier_2k.log', 'proxy', 'attack')"
   ]
  },
  {
   "cell_type": "code",
   "execution_count": 34,
   "metadata": {},
   "outputs": [
    {
     "name": "stdout",
     "output_type": "stream",
     "text": [
      "QQ.exe tcpconn.tencent.com:80 open through proxy proxy.cse.cuhk.edu.hk:5070\n",
      "QQ.exe tcpconn6.tencent.com:443 open through proxy proxy.cse.cuhk.edu.hk:5070\n",
      "QQ.exe 183.60.49.182:443 open through proxy proxy.cse.cuhk.edu.hk:5070\n",
      "QQ.exe cgi.qqweb.qq.com:80 open through proxy proxy.cse.cuhk.edu.hk:5070\n",
      "QQ.exe tcpconn6.tencent.com:80 open through proxy proxy.cse.cuhk.edu.hk:5070\n",
      "QQPlayer.exe btrace.qq.com:80 open through proxy proxy.cse.cuhk.edu.hk:5070\n",
      "QQ.exe tcpconn3.tencent.com:443 open through proxy proxy.cse.cuhk.edu.hk:5070\n",
      "QQProtectUpd.exe qdun-data.qq.com:443 open through proxy proxy.cse.cuhk.edu.hk:5070\n"
     ]
    }
   ],
   "source": [
    "proxyLog2.proxy_events('../../logs/Proxifier_2k.log', 'proxy', 'open')"
   ]
  },
  {
   "cell_type": "markdown",
   "metadata": {},
   "source": [
    "### What is your interpretation of the results that you discovered (Did the files match known threat intell information?  Was there activity to and from the same remote host?)"
   ]
  },
  {
   "cell_type": "markdown",
   "metadata": {},
   "source": [
    "From what I can interpret, it looks like the firewall (proxy in this case) is taking a look at the activity and realied that the QQ.exe was involved in some traffic with the user via HTTP (port 80) and HTTPS (port 443). There was data transferred as well and the proxy made sure to take note of it. There are also signs of large byte numbers from what looks like being taken awayfrom the user accross these ports. It looks as of the attacker was operating on port 5070 from their device. Lastly, this wasn't in the prompt, but I can see that the qq domain has been utilized through other applications such as Wechat and it may be apart of a greater issue I don't fully comprehend yet."
   ]
  },
  {
   "cell_type": "markdown",
   "metadata": {},
   "source": [
    "### What went well and what can I improve on ?"
   ]
  },
  {
   "cell_type": "markdown",
   "metadata": {},
   "source": [
    "Essentially, I enjoyed utilizing these features today because I was able to understand how I woulduse python in more of a real-world - personal application sense. When I usually go over python, it is to make video games or small coding assignments butI feel as if I am doing a lot with a little while also being able to comprehend most of the information that is present. One thing I need to workon tho is my effiency because it took me some time to get back in the groove with what we were taught and how I can apply the class material into a homework setting. That is just me personally, but I am honestly enjoying this class very much and you are doing such a great job! Thanks for the oppurtunity."
   ]
  }
 ],
 "metadata": {
  "interpreter": {
   "hash": "34368ba4908ea1be08ba769dfb7764ab7f8ead2384ebb5604cb86637573696f7"
  },
  "kernelspec": {
   "display_name": "Python 3.8.12 64-bit ('base': conda)",
   "language": "python",
   "name": "python3"
  },
  "language_info": {
   "codemirror_mode": {
    "name": "ipython",
    "version": 3
   },
   "file_extension": ".py",
   "mimetype": "text/x-python",
   "name": "python",
   "nbconvert_exporter": "python",
   "pygments_lexer": "ipython3",
   "version": "3.8.12"
  },
  "orig_nbformat": 4
 },
 "nbformat": 4,
 "nbformat_minor": 2
}
