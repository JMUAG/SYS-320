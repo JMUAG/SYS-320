{
 "cells": [
  {
   "cell_type": "code",
   "execution_count": 62,
   "metadata": {},
   "outputs": [],
   "source": [
    "import paramiko\n",
    "from getpass import getpass\n",
    "\n",
    "#Create the password prompt\n",
    "thePass = getpass(prompt = \"Please enter your SSH password: \")\n",
    "\n",
    "#Host information\n",
    "host = \"192.168.6.71\"\n",
    "port = 2222\n",
    "username = \"jahseem.maxwell\"\n",
    "password = thePass\n",
    "\n",
    "try:\n",
    "\n",
    "    ssh = paramiko.SSHClient()\n",
    "    ssh.set_missing_host_key_policy(paramiko.AutoAddPolicy)\n",
    "    ssh.connect(host, port, username, password)\n",
    "\n",
    "except paramiko.AuthenticationException:\n",
    "    print(\"Authenticated failed.\")"
   ]
  },
  {
   "cell_type": "code",
   "execution_count": 39,
   "metadata": {},
   "outputs": [
    {
     "data": {
      "text/plain": [
       "<SFTPAttributes: [ size=9962192 uid=1286604136 gid=1286603265 mode=0o100644 atime=1646852061 mtime=1646852152 ]>"
      ]
     },
     "execution_count": 39,
     "metadata": {},
     "output_type": "execute_result"
    }
   ],
   "source": [
    "sftp = ssh.open_sftp()\n",
    "\n",
    "sftp.put('/Users/jahseem/SYS-320-SP22/Week7/homework/kraken', '/home/jahseem.maxwell/kraken')\n",
    "\n"
   ]
  },
  {
   "cell_type": "code",
   "execution_count": 53,
   "metadata": {},
   "outputs": [
    {
     "name": "stdout",
     "output_type": "stream",
     "text": [
      "\u001b[36mINFO\u001b[0m[0000] Looking for configuration file with name config.yaml \n",
      "\u001b[36mINFO\u001b[0m[0000] No configuration file found, generating a default one... \n",
      "\u001b[36mINFO\u001b[0m[0000] Loading Yara rules...                        \n",
      "\u001b[36mINFO\u001b[0m[0000] Scanning running processes...                \n",
      "\u001b[33mWARN\u001b[0m[0004] DETECTION! Malicious process detected as foundGoBinary  \u001b[33mpid\u001b[0m=3138 \u001b[33mprocess\u001b[0m=ls\n",
      "\u001b[33mWARN\u001b[0m[0004] DETECTION! Malicious process detected as foundGoBinary  \u001b[33mpid\u001b[0m=25680 \u001b[33mprocess\u001b[0m=snapd\n",
      "\u001b[36mINFO\u001b[0m[0014] Scanning autoruns...                         \n",
      "\u001b[33mWARN\u001b[0m[0015] DETECTION! Malicious autorun detected as foundGoBinary  \u001b[33mimage_path\u001b[0m=/usr/bin/snap \u001b[33mtype\u001b[0m=systemd\n",
      "\u001b[33mWARN\u001b[0m[0015] DETECTION! Malicious autorun detected as foundGoBinary  \u001b[33mimage_path\u001b[0m=/usr/bin/snap \u001b[33mtype\u001b[0m=systemd\n",
      "\u001b[36mINFO\u001b[0m[0015] Scanning the filesystem (this can take several minutes)... \n",
      "\u001b[31mERRO\u001b[0m[0015] Some malicious artifacts have been detected on this system: \n",
      "\u001b[31mERRO\u001b[0m[0015] Found detection for foundGoBinary            \n",
      "\u001b[31mERRO\u001b[0m[0015] Found detection for foundGoBinary            \n",
      "\u001b[31mERRO\u001b[0m[0015] Found detection for foundGoBinary            \n",
      "\u001b[31mERRO\u001b[0m[0015] Found detection for foundGoBinary            \n",
      "\n"
     ]
    }
   ],
   "source": [
    "#Task 2\n",
    "\n",
    "kcommand = \"chmod +x kraken && sudo -S /home/jahseem.maxwell/kraken --folder /usr/bin --folder  --folder /usr/sbin/   --folder /usr/local/bin  --folder /sbin  --folder /usr/local/sbin  --folder /bin\"\n",
    "\n",
    "stdin, stdout, stderr = ssh.exec_command(kcommand)\n",
    "\n",
    "stdin.write(thePass + \"\\n\")\n",
    "\n",
    "lines = stdout.readlines()\n",
    "\n",
    "output = ''.join(lines)\n",
    "\n",
    "print(output)\n",
    "\n",
    "with open('kraken_results.txt', 'a') as f:\n",
    "    f.write(output)\n",
    "\n",
    "# The commands \n"
   ]
  },
  {
   "cell_type": "code",
   "execution_count": 59,
   "metadata": {},
   "outputs": [],
   "source": [
    "#Task 3\n",
    "lsofCMD = [\"sudo -S lsof -p 3138\", \"sudo -S lsof -p 25680\", \"sudo -S lsof -p 3025\", \"sudo -S lsof -p 3027\"]\n",
    "#pidof *process* will give you the process ID\n",
    "#ps aux will give you a list of running processes\n",
    "#3025, 3027, and 3138 were all associated with the p.dalton user\n",
    "\n",
    "def commander(commandField):\n",
    "\n",
    "    # Run a list of commands\n",
    "    for eachCMD in commandField:\n",
    "        # Get the output from the command\n",
    "        stdin, stdout, stderr = ssh.exec_command(eachCMD)\n",
    "\n",
    "        stdin.write(thePass + \"\\n\")\n",
    "\n",
    "        # Get results from stdout\n",
    "        lines = stdout.readlines()\n",
    "    \n",
    "        #Conver the list to a string\n",
    "        output = ''.join(lines)\n",
    "\n",
    "        #Header output\n",
    "        sepHeader = '' + '### BEGIN ' + eachCMD + ' ###\\n\\n'\n",
    "\n",
    "        # Footer\n",
    "        sepFooter =  '' + '### END ' + eachCMD + ' ###\\n\\n'\n",
    "\n",
    "        # Concatenate the header, output, and footer\n",
    "\n",
    "        cmd_output = sepHeader + output + sepFooter\n",
    "\n",
    "        # Save command output to a file\n",
    "        with open('lsof_results.txt', 'a') as f:\n",
    "            f.write(cmd_output)\n",
    "            \n",
    "commander(lsofCMD)"
   ]
  },
  {
   "cell_type": "code",
   "execution_count": 73,
   "metadata": {},
   "outputs": [
    {
     "name": "stdout",
     "output_type": "stream",
     "text": [
      "systemd\n",
      "libsystemd-shared-245.so\n",
      "ls\n",
      ".d.log\n",
      "d.pid\n",
      "snapd\n",
      "libunistring.so.2.1.0\n",
      "libcrypto.so.1.1\n",
      "libgcrypt.so.20.2.5\n"
     ]
    }
   ],
   "source": [
    "#Task 4\n",
    "# Start SFTP session\n",
    "sftp = ssh.open_sftp()\n",
    "\n",
    "# List of files to download\n",
    "files = ['/usr/lib/systemd/systemd',\n",
    " '/usr/lib/systemd/libsystemd-shared-245.so', \n",
    " '/usr/local/bin/ls',\n",
    " '/home/p.dalton/test-lk/.d.log',\n",
    " '/home/p.dalton/test-lk/d.pid',\n",
    " '/usr/lib/snapd/snapd',\n",
    " '/usr/lib/x86_64-linux-gnu/libunistring.so.2.1.0',\n",
    " '/usr/lib/x86_64-linux-gnu/libcrypto.so.1.1',\n",
    " '/usr/lib/x86_64-linux-gnu/libgcrypt.so.20.2.5'\n",
    "  ]\n",
    "\n",
    "# Loop through the files and download time\n",
    "for eachFile in files:\n",
    "\n",
    "    # Create a list from the filename\n",
    "    x = eachFile.split(\"/\")\n",
    "\n",
    "    # -1 is used to pluck the last element in a list\n",
    "    filename = x[-1]\n",
    "\n",
    "    print(filename)\n",
    "    # Local path to store files\n",
    "    local_path = \"suspect_files/\" + filename\n",
    "\n",
    "    sftp.get(eachFile, local_path)\n",
    "    \n"
   ]
  }
 ],
 "metadata": {
  "interpreter": {
   "hash": "aee8b7b246df8f9039afb4144a1f6fd8d2ca17a180786b69acc140d282b71a49"
  },
  "kernelspec": {
   "display_name": "Python 3.10.2 64-bit",
   "language": "python",
   "name": "python3"
  },
  "language_info": {
   "codemirror_mode": {
    "name": "ipython",
    "version": 3
   },
   "file_extension": ".py",
   "mimetype": "text/x-python",
   "name": "python",
   "nbconvert_exporter": "python",
   "pygments_lexer": "ipython3",
   "version": "3.10.2"
  },
  "orig_nbformat": 4
 },
 "nbformat": 4,
 "nbformat_minor": 2
}
