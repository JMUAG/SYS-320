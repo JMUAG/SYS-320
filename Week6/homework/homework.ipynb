{
 "cells": [
  {
   "cell_type": "markdown",
   "metadata": {},
   "source": [
    "## Task 1\n",
    "\n",
    "What Python module **contains** the function to see if a file exists?\n",
    "\n",
    "The os.path module is used to check if a file exists.\n",
    "\n",
    "What is the function **within the module** that checks to see if the file exists?\n",
    "\n",
    "The exists() function is used to check if a file exists and is passed by running os.path.exists(filepath or filename)\n",
    "\n",
    "What Python module **contains** the function to remove a file?\n",
    "\n",
    "The os module allows for the removal of files and directories.\n",
    "\n",
    "What is the function **within the module** that removes the file?\n",
    "\n",
    "The remove() and rmdir() functions are used to remove files and directories in Python.\n",
    "\n",
    "What standard Python function is used to take **input** from a user prompt?\n",
    "\n",
    "The input() function is used to retrieve an user input in Python.\n",
    "\n",
    "Before the ssh password login prompt:\n",
    "\n",
    "Check to see if the file specified for the results exists.\n",
    "   prompt the user that the file exists and if they want to delete it.\n",
    "      if so, then the user provides the response\n",
    "          delete the file."
   ]
  },
  {
   "cell_type": "code",
   "execution_count": 12,
   "metadata": {},
   "outputs": [
    {
     "name": "stdout",
     "output_type": "stream",
     "text": [
      "There is currently no results.txt file made.\n"
     ]
    }
   ],
   "source": [
    "import paramiko\n",
    "import os\n",
    "import os.path\n",
    "from getpass import getpass\n",
    "\n",
    "#Checks to see if the filepath exists\n",
    "check = os.path.exists('ssh_results.txt')\n",
    "\n",
    "if check == True:\n",
    "    #If the file exists, prompt the user for file deletion\n",
    "    print(\"Your ssh_results.txt file still exists\")\n",
    "    x = input(\"Do you want to delete this file: \")\n",
    "    if x == \"yes\":\n",
    "        #Deletes the file\n",
    "        os.remove('ssh_results.txt')\n",
    "        print(\"Your file has been deleted.\")\n",
    "    elif x == \"no\":\n",
    "        print(\"This file will not be deleted.\")\n",
    "    else:\n",
    "        print(\"AuthenticationError\")\n",
    "else:\n",
    "    print(\"There is currently no results.txt file made.\")\n",
    "\n",
    "\n",
    "#Create the password prompt\n",
    "thePass = getpass(prompt = \"Please enter your SSH password: \")\n",
    "\n",
    "#Host information\n",
    "host = \"localhost\"\n",
    "port = 22\n",
    "username = \"jahseem\"\n",
    "password = thePass\n",
    "\n",
    "try:\n",
    "\n",
    "    ssh = paramiko.SSHClient()\n",
    "    ssh.set_missing_host_key_policy(paramiko.AutoAddPolicy)\n",
    "    ssh.connect(host, port, username, password)\n",
    "\n",
    "except paramiko.AuthenticationException:\n",
    "    print(\"Authenticated failed.\")"
   ]
  },
  {
   "cell_type": "code",
   "execution_count": 5,
   "metadata": {},
   "outputs": [],
   "source": [
    "# Run a single command\n",
    "#command = \"ps -ef\"\n",
    "\n",
    "blindFiles = [\"cat /etc/resolv.conf\", \"cat /etc/motd\", \"cat /etc/issue\", \"cat /etc/passwd\", \"cat /etc/shadow\"]\n",
    "system = [\"uname -a\", \"ps aux\", \"top -n 1 -d\", \"id\", \"arch, uname -m\"]\n",
    "networking = [\"hostname -f\", \"ip addr show\", \"ip ro show\", \"ifconfig -a\", \"route -n\"]\n",
    "userAcct = [\"cat /etc/passwd\", \"cat /etc/shadow\", \"cat /etc/security/passwd\", \"cat /etc/group\", \"getent passwd\"]\n",
    "userInfo = [\"ls -alh /home/*/\", \"ls -alh /home/*/.ssh\", \"cat /home/*/.ssh/authorized_keys\", \"cat /home/*/.ssh/known_hosts\", \"cat /home/*/.hist\"] \n",
    "creds = [\"cat /home/*/.ssh/id*\", \"cat /tmp/krb5cc_*\", \"cat /tmp/krb5.keytab\", \"cat /home/*/.gnupg/secring.gpgs\"]\n",
    "configs = [\"ls -aRl /etc/ * awk '$1 ~ /w.$/' * grep -v lrwx 2>/dev/nullte\", \"cat /etc/issue{,.net}\", \"cat /etc/master.passwd\", \"cat /etc/group\", \"cat /etc/hosts\"]\n",
    "distro = [\"uname -a\", \"lsb_release -d\", \"cat /etc/os-release\", \"cat /etc/issue\", \"cat /etc/*release\"]\n",
    "installPak = [\"rpm -qa --last | head\", \"yum list | grep installed\", \"dpkg -l\", \"dpkg -l | grep -i 'linux-image'\", \"dpkg --get-selections\"]\n",
    "pakSrc = [\"cat /etc/apt/sources.list\", \"ls -l /etc/yum.repos.d/\", \"cat /etc/yum.conf\"]\n",
    "importFiles = [\"ls -dlR */\", \"ls -alR | grep ^d\", \"find /var -type d\", \"ls -dl `find /var -type d`\", \"ls -dl `find /var -type d` | grep -v root\"]\n",
    "\n",
    "def commander(commandField):\n",
    "\n",
    "    # Run a list of commands\n",
    "    for eachCMD in commandField:\n",
    "        # Get the output from the command\n",
    "        stdin, stdout, stderr = ssh.exec_command(eachCMD)\n",
    "\n",
    "        # Get results from stdout\n",
    "        lines = stdout.readlines()\n",
    "        #print(lines)\n",
    "\n",
    "        #Conver the list to a string\n",
    "        output = ''.join(lines)\n",
    "\n",
    "        #Header output\n",
    "        sepHeader = '' + '### BEGIN ' + eachCMD + ' ###\\n\\n'\n",
    "\n",
    "        # Footer\n",
    "        sepFooter =  '' + '### END ' + eachCMD + ' ###\\n\\n'\n",
    "\n",
    "        # Concatenate the header, output, and footer\n",
    "\n",
    "        cmd_output = sepHeader + output + sepFooter\n",
    "\n",
    "        # Save command output to a file\n",
    "        with open('ssh_results.txt', 'a') as f:\n",
    "            f.write(cmd_output)\n",
    "        #print(cmd_output)\n",
    "\n",
    "    ssh.close()"
   ]
  },
  {
   "cell_type": "code",
   "execution_count": 15,
   "metadata": {},
   "outputs": [
    {
     "name": "stdout",
     "output_type": "stream",
     "text": [
      "['', 'SYS-320-SP22', 'Week4', 'class', 'timeline.body']\n"
     ]
    },
    {
     "ename": "FileNotFoundError",
     "evalue": "[Errno 2] No such file",
     "output_type": "error",
     "traceback": [
      "\u001b[0;31m---------------------------------------------------------------------------\u001b[0m",
      "\u001b[0;31mFileNotFoundError\u001b[0m                         Traceback (most recent call last)",
      "Input \u001b[0;32mIn [15]\u001b[0m, in \u001b[0;36m<module>\u001b[0;34m\u001b[0m\n\u001b[1;32m     18\u001b[0m \u001b[38;5;66;03m#print(filename)\u001b[39;00m\n\u001b[1;32m     19\u001b[0m \u001b[38;5;66;03m# Local path to store files\u001b[39;00m\n\u001b[1;32m     20\u001b[0m local_path \u001b[38;5;241m=\u001b[39m \u001b[38;5;124m\"\u001b[39m\u001b[38;5;124mremote_files/\u001b[39m\u001b[38;5;124m\"\u001b[39m \u001b[38;5;241m+\u001b[39m filename\n\u001b[0;32m---> 22\u001b[0m \u001b[43msftp\u001b[49m\u001b[38;5;241;43m.\u001b[39;49m\u001b[43mget\u001b[49m\u001b[43m(\u001b[49m\u001b[43meachFile\u001b[49m\u001b[43m,\u001b[49m\u001b[43m \u001b[49m\u001b[43mlocal_path\u001b[49m\u001b[43m)\u001b[49m\n",
      "File \u001b[0;32m/Library/Frameworks/Python.framework/Versions/3.10/lib/python3.10/site-packages/paramiko/sftp_client.py:811\u001b[0m, in \u001b[0;36mSFTPClient.get\u001b[0;34m(self, remotepath, localpath, callback, prefetch)\u001b[0m\n\u001b[1;32m    791\u001b[0m \u001b[38;5;124;03m\"\"\"\u001b[39;00m\n\u001b[1;32m    792\u001b[0m \u001b[38;5;124;03mCopy a remote file (``remotepath``) from the SFTP server to the local\u001b[39;00m\n\u001b[1;32m    793\u001b[0m \u001b[38;5;124;03mhost as ``localpath``.  Any exception raised by operations will be\u001b[39;00m\n\u001b[0;32m   (...)\u001b[0m\n\u001b[1;32m    808\u001b[0m \u001b[38;5;124;03m    Added the ``prefetch`` keyword argument.\u001b[39;00m\n\u001b[1;32m    809\u001b[0m \u001b[38;5;124;03m\"\"\"\u001b[39;00m\n\u001b[1;32m    810\u001b[0m \u001b[38;5;28;01mwith\u001b[39;00m \u001b[38;5;28mopen\u001b[39m(localpath, \u001b[38;5;124m\"\u001b[39m\u001b[38;5;124mwb\u001b[39m\u001b[38;5;124m\"\u001b[39m) \u001b[38;5;28;01mas\u001b[39;00m fl:\n\u001b[0;32m--> 811\u001b[0m     size \u001b[38;5;241m=\u001b[39m \u001b[38;5;28;43mself\u001b[39;49m\u001b[38;5;241;43m.\u001b[39;49m\u001b[43mgetfo\u001b[49m\u001b[43m(\u001b[49m\u001b[43mremotepath\u001b[49m\u001b[43m,\u001b[49m\u001b[43m \u001b[49m\u001b[43mfl\u001b[49m\u001b[43m,\u001b[49m\u001b[43m \u001b[49m\u001b[43mcallback\u001b[49m\u001b[43m,\u001b[49m\u001b[43m \u001b[49m\u001b[43mprefetch\u001b[49m\u001b[43m)\u001b[49m\n\u001b[1;32m    812\u001b[0m s \u001b[38;5;241m=\u001b[39m os\u001b[38;5;241m.\u001b[39mstat(localpath)\n\u001b[1;32m    813\u001b[0m \u001b[38;5;28;01mif\u001b[39;00m s\u001b[38;5;241m.\u001b[39mst_size \u001b[38;5;241m!=\u001b[39m size:\n",
      "File \u001b[0;32m/Library/Frameworks/Python.framework/Versions/3.10/lib/python3.10/site-packages/paramiko/sftp_client.py:782\u001b[0m, in \u001b[0;36mSFTPClient.getfo\u001b[0;34m(self, remotepath, fl, callback, prefetch)\u001b[0m\n\u001b[1;32m    761\u001b[0m \u001b[38;5;28;01mdef\u001b[39;00m \u001b[38;5;21mgetfo\u001b[39m(\u001b[38;5;28mself\u001b[39m, remotepath, fl, callback\u001b[38;5;241m=\u001b[39m\u001b[38;5;28;01mNone\u001b[39;00m, prefetch\u001b[38;5;241m=\u001b[39m\u001b[38;5;28;01mTrue\u001b[39;00m):\n\u001b[1;32m    762\u001b[0m     \u001b[38;5;124;03m\"\"\"\u001b[39;00m\n\u001b[1;32m    763\u001b[0m \u001b[38;5;124;03m    Copy a remote file (``remotepath``) from the SFTP server and write to\u001b[39;00m\n\u001b[1;32m    764\u001b[0m \u001b[38;5;124;03m    an open file or file-like object, ``fl``.  Any exception raised by\u001b[39;00m\n\u001b[0;32m   (...)\u001b[0m\n\u001b[1;32m    780\u001b[0m \u001b[38;5;124;03m        Added the ``prefetch`` keyword argument.\u001b[39;00m\n\u001b[1;32m    781\u001b[0m \u001b[38;5;124;03m    \"\"\"\u001b[39;00m\n\u001b[0;32m--> 782\u001b[0m     file_size \u001b[38;5;241m=\u001b[39m \u001b[38;5;28;43mself\u001b[39;49m\u001b[38;5;241;43m.\u001b[39;49m\u001b[43mstat\u001b[49m\u001b[43m(\u001b[49m\u001b[43mremotepath\u001b[49m\u001b[43m)\u001b[49m\u001b[38;5;241m.\u001b[39mst_size\n\u001b[1;32m    783\u001b[0m     \u001b[38;5;28;01mwith\u001b[39;00m \u001b[38;5;28mself\u001b[39m\u001b[38;5;241m.\u001b[39mopen(remotepath, \u001b[38;5;124m\"\u001b[39m\u001b[38;5;124mrb\u001b[39m\u001b[38;5;124m\"\u001b[39m) \u001b[38;5;28;01mas\u001b[39;00m fr:\n\u001b[1;32m    784\u001b[0m         \u001b[38;5;28;01mif\u001b[39;00m prefetch:\n",
      "File \u001b[0;32m/Library/Frameworks/Python.framework/Versions/3.10/lib/python3.10/site-packages/paramiko/sftp_client.py:493\u001b[0m, in \u001b[0;36mSFTPClient.stat\u001b[0;34m(self, path)\u001b[0m\n\u001b[1;32m    491\u001b[0m path \u001b[38;5;241m=\u001b[39m \u001b[38;5;28mself\u001b[39m\u001b[38;5;241m.\u001b[39m_adjust_cwd(path)\n\u001b[1;32m    492\u001b[0m \u001b[38;5;28mself\u001b[39m\u001b[38;5;241m.\u001b[39m_log(DEBUG, \u001b[38;5;124m\"\u001b[39m\u001b[38;5;124mstat(\u001b[39m\u001b[38;5;132;01m{!r}\u001b[39;00m\u001b[38;5;124m)\u001b[39m\u001b[38;5;124m\"\u001b[39m\u001b[38;5;241m.\u001b[39mformat(path))\n\u001b[0;32m--> 493\u001b[0m t, msg \u001b[38;5;241m=\u001b[39m \u001b[38;5;28;43mself\u001b[39;49m\u001b[38;5;241;43m.\u001b[39;49m\u001b[43m_request\u001b[49m\u001b[43m(\u001b[49m\u001b[43mCMD_STAT\u001b[49m\u001b[43m,\u001b[49m\u001b[43m \u001b[49m\u001b[43mpath\u001b[49m\u001b[43m)\u001b[49m\n\u001b[1;32m    494\u001b[0m \u001b[38;5;28;01mif\u001b[39;00m t \u001b[38;5;241m!=\u001b[39m CMD_ATTRS:\n\u001b[1;32m    495\u001b[0m     \u001b[38;5;28;01mraise\u001b[39;00m SFTPError(\u001b[38;5;124m\"\u001b[39m\u001b[38;5;124mExpected attributes\u001b[39m\u001b[38;5;124m\"\u001b[39m)\n",
      "File \u001b[0;32m/Library/Frameworks/Python.framework/Versions/3.10/lib/python3.10/site-packages/paramiko/sftp_client.py:822\u001b[0m, in \u001b[0;36mSFTPClient._request\u001b[0;34m(self, t, *arg)\u001b[0m\n\u001b[1;32m    820\u001b[0m \u001b[38;5;28;01mdef\u001b[39;00m \u001b[38;5;21m_request\u001b[39m(\u001b[38;5;28mself\u001b[39m, t, \u001b[38;5;241m*\u001b[39marg):\n\u001b[1;32m    821\u001b[0m     num \u001b[38;5;241m=\u001b[39m \u001b[38;5;28mself\u001b[39m\u001b[38;5;241m.\u001b[39m_async_request(\u001b[38;5;28mtype\u001b[39m(\u001b[38;5;28;01mNone\u001b[39;00m), t, \u001b[38;5;241m*\u001b[39marg)\n\u001b[0;32m--> 822\u001b[0m     \u001b[38;5;28;01mreturn\u001b[39;00m \u001b[38;5;28;43mself\u001b[39;49m\u001b[38;5;241;43m.\u001b[39;49m\u001b[43m_read_response\u001b[49m\u001b[43m(\u001b[49m\u001b[43mnum\u001b[49m\u001b[43m)\u001b[49m\n",
      "File \u001b[0;32m/Library/Frameworks/Python.framework/Versions/3.10/lib/python3.10/site-packages/paramiko/sftp_client.py:874\u001b[0m, in \u001b[0;36mSFTPClient._read_response\u001b[0;34m(self, waitfor)\u001b[0m\n\u001b[1;32m    871\u001b[0m \u001b[38;5;28;01mif\u001b[39;00m num \u001b[38;5;241m==\u001b[39m waitfor:\n\u001b[1;32m    872\u001b[0m     \u001b[38;5;66;03m# synchronous\u001b[39;00m\n\u001b[1;32m    873\u001b[0m     \u001b[38;5;28;01mif\u001b[39;00m t \u001b[38;5;241m==\u001b[39m CMD_STATUS:\n\u001b[0;32m--> 874\u001b[0m         \u001b[38;5;28;43mself\u001b[39;49m\u001b[38;5;241;43m.\u001b[39;49m\u001b[43m_convert_status\u001b[49m\u001b[43m(\u001b[49m\u001b[43mmsg\u001b[49m\u001b[43m)\u001b[49m\n\u001b[1;32m    875\u001b[0m     \u001b[38;5;28;01mreturn\u001b[39;00m t, msg\n\u001b[1;32m    877\u001b[0m \u001b[38;5;66;03m# can not rewrite this to deal with E721, either as a None check\u001b[39;00m\n\u001b[1;32m    878\u001b[0m \u001b[38;5;66;03m# nor as not an instance of None or NoneType\u001b[39;00m\n",
      "File \u001b[0;32m/Library/Frameworks/Python.framework/Versions/3.10/lib/python3.10/site-packages/paramiko/sftp_client.py:903\u001b[0m, in \u001b[0;36mSFTPClient._convert_status\u001b[0;34m(self, msg)\u001b[0m\n\u001b[1;32m    900\u001b[0m     \u001b[38;5;28;01mraise\u001b[39;00m \u001b[38;5;167;01mEOFError\u001b[39;00m(text)\n\u001b[1;32m    901\u001b[0m \u001b[38;5;28;01melif\u001b[39;00m code \u001b[38;5;241m==\u001b[39m SFTP_NO_SUCH_FILE:\n\u001b[1;32m    902\u001b[0m     \u001b[38;5;66;03m# clever idea from john a. meinel: map the error codes to errno\u001b[39;00m\n\u001b[0;32m--> 903\u001b[0m     \u001b[38;5;28;01mraise\u001b[39;00m \u001b[38;5;167;01mIOError\u001b[39;00m(errno\u001b[38;5;241m.\u001b[39mENOENT, text)\n\u001b[1;32m    904\u001b[0m \u001b[38;5;28;01melif\u001b[39;00m code \u001b[38;5;241m==\u001b[39m SFTP_PERMISSION_DENIED:\n\u001b[1;32m    905\u001b[0m     \u001b[38;5;28;01mraise\u001b[39;00m \u001b[38;5;167;01mIOError\u001b[39;00m(errno\u001b[38;5;241m.\u001b[39mEACCES, text)\n",
      "\u001b[0;31mFileNotFoundError\u001b[0m: [Errno 2] No such file"
     ]
    }
   ],
   "source": [
    "# Start SFTP session\n",
    "sftp = ssh.open_sftp()\n",
    "\n",
    "# List of files to download\n",
    "files = ['/SYS-320-SP22/Week4/class/timeline.body']\n",
    "\n",
    "# Loop through the files and download time\n",
    "for eachFile in files:\n",
    "\n",
    "    # Create a list from the filename\n",
    "    x = eachFile.split(\"/\")\n",
    "\n",
    "    print(x)\n",
    "\n",
    "    # -1 is used to pluck the last element in a list\n",
    "    filename = x[-1]\n",
    "\n",
    "    #print(filename)\n",
    "    # Local path to store files\n",
    "    local_path = \"remote_files/\" + filename\n",
    "\n",
    "    sftp.get(eachFile, local_path)\n",
    "    #sftp.put(LOCALFILE,REMOTESIDE)\n",
    "\n"
   ]
  }
 ],
 "metadata": {
  "interpreter": {
   "hash": "aee8b7b246df8f9039afb4144a1f6fd8d2ca17a180786b69acc140d282b71a49"
  },
  "kernelspec": {
   "display_name": "Python 3.10.2 64-bit",
   "language": "python",
   "name": "python3"
  },
  "language_info": {
   "codemirror_mode": {
    "name": "ipython",
    "version": 3
   },
   "file_extension": ".py",
   "mimetype": "text/x-python",
   "name": "python",
   "nbconvert_exporter": "python",
   "pygments_lexer": "ipython3",
   "version": "3.10.2"
  },
  "orig_nbformat": 4
 },
 "nbformat": 4,
 "nbformat_minor": 2
}
