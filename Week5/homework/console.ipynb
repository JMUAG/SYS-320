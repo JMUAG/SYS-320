{
 "cells": [
  {
   "cell_type": "markdown",
   "metadata": {},
   "source": [
    "# URLHAUS"
   ]
  },
  {
   "cell_type": "code",
   "execution_count": 21,
   "metadata": {},
   "outputs": [
    {
     "data": {
      "text/plain": [
       "<module 'csvvTest' from '/Users/jahseem/SYS-320-SP22/Week5/homework/csvvTest.py'>"
      ]
     },
     "execution_count": 21,
     "metadata": {},
     "output_type": "execute_result"
    }
   ],
   "source": [
    "import csvReader as u\n",
    "import csvvTest as x\n",
    "import importlib\n",
    "importlib.reload(u)\n",
    "importlib.reload(x)\n"
   ]
  },
  {
   "cell_type": "code",
   "execution_count": 23,
   "metadata": {},
   "outputs": [
    {
     "name": "stdout",
     "output_type": "stream",
     "text": [
      "['nedu', 'bedu', '.edu', '/edu', '.edu', '.edu', '.edu', '.edu', 'nedu', '.edu', '.edu', '/edu', '/edu', '.edu', '.edu', '.edu', '.edu', '.edu', '.edu', '.edu', '.edu', '.edu', '.edu', '.edu', '.edu', '.edu', '.edu', '.edu', '.edu', '.edu', '.edu', '.edu', '.edu', '.edu', '.edu', '.edu', '.edu', '.edu', '.edu', '.edu', '.edu', '.edu', '.edu', '.edu', 'bedu', 'bedu', '.edu', '.edu', '.edu', '.edu', '.edu', '.edu', '.edu', '.edu', '.edu', 'bedu', 'bedu', '.edu', '.edu', '.edu', '.edu', '.edu', '.edu', '.edu', 'ledu', 'ledu', '.edu', '.edu', 'bedu', 'bedu', '/edu', '/edu', 'bedu', 'bedu', '.edu', 'hedu', '.edu', '.edu', '.edu', '.edu', '.edu', '.edu', '.edu', '.edu', '.edu', '.edu', '.edu', '.edu', '.edu', '.edu', '.edu', '.edu', '.edu', '.edu', '.edu', '.edu', '.edu', '.edu', '/edu', '.edu', '.edu', 'hedu', '.edu', '.edu', '.edu', '.edu', '/edu', '.edu', '.edu', '.edu', '.edu', '.edu', '.edu', '.edu', '.edu', '.edu', '.edu', '.edu', '.edu', '.edu', '.edu', '.edu', '.edu', 'hedu', 'medu', '-edu', 'sedu', 'sedu', '/edu', '/edu', '.edu', 'xedu', 'hedu', 'sedu', 'hedu', 'eedu', 'eedu', 'ledu', 'iedu', 'iedu', 'iedu', 'iedu', 'iedu', 'iedu', 'iedu', 'iedu', 'iedu', 'iedu', '.edu', 'eedu', '/edu', '.edu', 'dedu', '.edu', '.edu', '.edu', '/edu', '/edu', '/edu', '.edu', '.edu', '.edu', '.edu', '.edu', '.edu', '.edu', '.edu', '.edu', '/edu', '.edu', 'sedu', '/edu', 'fedu', '/edu', '.edu', 'ledu', '.edu', 'tedu', '/edu', '/edu', 'redu', 'ledu', '/edu', '.edu', '.edu', '.edu', 'ledu', '.edu', '.edu', '.edu', '.edu', '.edu', '.edu', '.edu', 'ledu', '/edu', '.edu', 'sedu', '.edu', '.edu', '.edu', '.edu', '.edu', '.edu', '.edu', 'sedu', '.edu', '.edu', 'sedu', '.edu', '.edu', '.edu', 'sedu', '.edu', 'sedu', '.edu', 'sedu', '.edu', 'sedu', 'tedu', '.edu', '.edu', '.edu', '.edu', '.edu', '.edu', '.edu', 'sedu', '.edu', '.edu', '.edu', '/edu', '/edu', '/edu', '/edu', '.edu', '.edu', 'sedu', 'fedu', 'fedu', 'fedu', 'fedu', '.edu', '.edu', 'aedu', 'sedu', 'sedu', 'sedu', 'sedu', 'sedu', 'sedu', 'sedu', 'sedu', 'sedu', 'sedu', '.edu', 'sedu', 'sedu', 'sedu', 'sedu', '.edu', '.edu', 'sedu', 'sedu', 'sedu', 'sedu', 'sedu', '.edu', 'sedu', 'sedu', '.edu', 'sedu', 'sedu', '.edu', '.edu', '.edu', '.edu', '.edu', '.edu', '.edu', '.edu', '.edu', '.edu', '.edu', 'sedu', '.edu', '.edu', '.edu', 'sedu', '.edu', '.edu', 'sedu', 'sedu', '.edu', '.edu', '.edu', '.edu', 'dedu', 'jedu', 'jedu', 'jedu', 'jedu', 'jedu', 'jedu', 'redu', '.edu', '.edu', 'fedu', 'fedu', 'fedu', 'fedu', 'fedu', 'fedu', 'fedu', 'fedu', 'fedu', 'vedu', '/edu', '.edu', '.edu', '.edu', '.edu', '.edu', '.edu', '.edu', '.edu', '.edu', '.edu', 'hedu', 'eedu', '.edu', '.edu', '.edu', '.edu', '.edu', '.edu', '.edu', '.edu', '.edu', '.edu', '.edu', '.edu', '.edu', 'Pedu', 'Tedu', 'redu', 'fedu', '.edu', '.edu', '.edu', '.edu', 'redu', '.edu', '.edu', 'aedu', 'aedu', 'Oedu', 'sedu', '.edu', 'aedu', 'sedu', '.edu', 'tedu', '/edu', 'kedu', 'dedu', 'cedu', 'cedu']\n",
      "['nedu', 'bedu', '.edu', '/edu', '.edu', '.edu', '.edu', '.edu', 'nedu', '.edu', '.edu', '/edu', '/edu', '.edu', '.edu', '.edu', '.edu', '.edu', '.edu', '.edu', '.edu', '.edu', '.edu', '.edu', '.edu', '.edu', '.edu', '.edu', '.edu', '.edu', '.edu', '.edu', '.edu', '.edu', '.edu', '.edu', '.edu', '.edu', '.edu', '.edu', '.edu', '.edu', '.edu', '.edu', 'bedu', 'bedu', '.edu', '.edu', '.edu', '.edu', '.edu', '.edu', '.edu', '.edu', '.edu', 'bedu', 'bedu', '.edu', '.edu', '.edu', '.edu', '.edu', '.edu', '.edu', 'ledu', 'ledu', '.edu', '.edu', 'bedu', 'bedu', '/edu', '/edu', 'bedu', 'bedu', '.edu', 'hedu', '.edu', '.edu', '.edu', '.edu', '.edu', '.edu', '.edu', '.edu', '.edu', '.edu', '.edu', '.edu', '.edu', '.edu', '.edu', '.edu', '.edu', '.edu', '.edu', '.edu', '.edu', '.edu', '/edu', '.edu', '.edu', 'hedu', '.edu', '.edu', '.edu', '.edu', '/edu', '.edu', '.edu', '.edu', '.edu', '.edu', '.edu', '.edu', '.edu', '.edu', '.edu', '.edu', '.edu', '.edu', '.edu', '.edu', '.edu', 'hedu', 'medu', '-edu', 'sedu', 'sedu', '/edu', '/edu', '.edu', 'xedu', 'hedu', 'sedu', 'hedu', 'eedu', 'eedu', 'ledu', 'iedu', 'iedu', 'iedu', 'iedu', 'iedu', 'iedu', 'iedu', 'iedu', 'iedu', 'iedu', '.edu', 'eedu', '/edu', '.edu', 'dedu', '.edu', '.edu', '.edu', '/edu', '/edu', '/edu', '.edu', '.edu', '.edu', '.edu', '.edu', '.edu', '.edu', '.edu', '.edu', '/edu', '.edu', 'sedu', '/edu', 'fedu', '/edu', '.edu', 'ledu', '.edu', 'tedu', '/edu', '/edu', 'redu', 'ledu', '/edu', '.edu', '.edu', '.edu', 'ledu', '.edu', '.edu', '.edu', '.edu', '.edu', '.edu', '.edu', 'ledu', '/edu', '.edu', 'sedu', '.edu', '.edu', '.edu', '.edu', '.edu', '.edu', '.edu', 'sedu', '.edu', '.edu', 'sedu', '.edu', '.edu', '.edu', 'sedu', '.edu', 'sedu', '.edu', 'sedu', '.edu', 'sedu', 'tedu', '.edu', '.edu', '.edu', '.edu', '.edu', '.edu', '.edu', 'sedu', '.edu', '.edu', '.edu', '/edu', '/edu', '/edu', '/edu', '.edu', '.edu', 'sedu', 'fedu', 'fedu', 'fedu', 'fedu', '.edu', '.edu', 'aedu', 'sedu', 'sedu', 'sedu', 'sedu', 'sedu', 'sedu', 'sedu', 'sedu', 'sedu', 'sedu', '.edu', 'sedu', 'sedu', 'sedu', 'sedu', '.edu', '.edu', 'sedu', 'sedu', 'sedu', 'sedu', 'sedu', '.edu', 'sedu', 'sedu', '.edu', 'sedu', 'sedu', '.edu', '.edu', '.edu', '.edu', '.edu', '.edu', '.edu', '.edu', '.edu', '.edu', '.edu', 'sedu', '.edu', '.edu', '.edu', 'sedu', '.edu', '.edu', 'sedu', 'sedu', '.edu', '.edu', '.edu', '.edu', 'dedu', 'jedu', 'jedu', 'jedu', 'jedu', 'jedu', 'jedu', 'redu', '.edu', '.edu', 'fedu', 'fedu', 'fedu', 'fedu', 'fedu', 'fedu', 'fedu', 'fedu', 'fedu', 'vedu', '/edu', '.edu', '.edu', '.edu', '.edu', '.edu', '.edu', '.edu', '.edu', '.edu', '.edu', 'hedu', 'eedu', '.edu', '.edu', '.edu', '.edu', '.edu', '.edu', '.edu', '.edu', '.edu', '.edu', '.edu', '.edu', '.edu', 'Pedu', 'Tedu', 'redu', 'fedu', '.edu', '.edu', '.edu', '.edu', 'redu', '.edu', '.edu', 'aedu', 'aedu', 'Oedu', 'sedu', '.edu', 'aedu', 'sedu', '.edu', 'tedu', '/edu', 'kedu', 'dedu', 'cedu', 'cedu']\n"
     ]
    }
   ],
   "source": [
    "u.reader('urlHaus.csv', ['.edu', '.gov'] )"
   ]
  }
 ],
 "metadata": {
  "interpreter": {
   "hash": "e849244212d109cc3cb88a1154d46bb16288231cb9cc2770bd078951feabfff8"
  },
  "kernelspec": {
   "display_name": "Python 3.9.6 64-bit",
   "language": "python",
   "name": "python3"
  },
  "language_info": {
   "codemirror_mode": {
    "name": "ipython",
    "version": 3
   },
   "file_extension": ".py",
   "mimetype": "text/x-python",
   "name": "python",
   "nbconvert_exporter": "python",
   "pygments_lexer": "ipython3",
   "version": "3.8.12"
  },
  "orig_nbformat": 4
 },
 "nbformat": 4,
 "nbformat_minor": 2
}
