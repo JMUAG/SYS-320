{
 "cells": [
  {
   "cell_type": "markdown",
   "metadata": {},
   "source": [
    "# klogind Authentication IP Address"
   ]
  },
  {
   "cell_type": "code",
   "execution_count": 14,
   "metadata": {},
   "outputs": [
    {
     "name": "stdout",
     "output_type": "stream",
     "text": [
      "(163.27.187.39):\n"
     ]
    }
   ],
   "source": [
    "import LinuxLogCheck, LinuxLogklogind, LinuxLogsshd\n",
    "import importlib\n",
    "importlib.reload(LinuxLogklogind)\n",
    "importlib.reload(LinuxLogsshd)\n",
    "\n",
    "LinuxLogklogind.klogind_connect('../../logs/Linux_2k.log', ['klogind.*Authentication failed from.*'])"
   ]
  },
  {
   "cell_type": "markdown",
   "metadata": {},
   "source": [
    "# sshd Authenticated Users"
   ]
  },
  {
   "cell_type": "code",
   "execution_count": 15,
   "metadata": {},
   "outputs": [
    {
     "ename": "AttributeError",
     "evalue": "module 'LinuxLogsshd' has no attribute 'sshd_connect'",
     "output_type": "error",
     "traceback": [
      "\u001b[0;31m---------------------------------------------------------------------------\u001b[0m",
      "\u001b[0;31mAttributeError\u001b[0m                            Traceback (most recent call last)",
      "\u001b[0;32m/var/folders/z2/2hp80rjn2slfhmr1nvmxnv440000gn/T/ipykernel_22978/1849708239.py\u001b[0m in \u001b[0;36m<module>\u001b[0;34m\u001b[0m\n\u001b[0;32m----> 1\u001b[0;31m \u001b[0mLinuxLogsshd\u001b[0m\u001b[0;34m.\u001b[0m\u001b[0msshd_connect\u001b[0m\u001b[0;34m(\u001b[0m\u001b[0;34m'../../logs/Linux_2k.log'\u001b[0m\u001b[0;34m,\u001b[0m \u001b[0;34m[\u001b[0m\u001b[0;34m'sshd\\(pam_unix\\).*session opened for user.*'\u001b[0m\u001b[0;34m]\u001b[0m\u001b[0;34m)\u001b[0m\u001b[0;34m\u001b[0m\u001b[0;34m\u001b[0m\u001b[0m\n\u001b[0m",
      "\u001b[0;31mAttributeError\u001b[0m: module 'LinuxLogsshd' has no attribute 'sshd_connect'"
     ]
    }
   ],
   "source": [
    "LinuxLogsshd.sshd_connect('../../logs/Linux_2k.log', ['sshd\\(pam_unix\\).*session opened for user.*'])"
   ]
  }
 ],
 "metadata": {
  "interpreter": {
   "hash": "34368ba4908ea1be08ba769dfb7764ab7f8ead2384ebb5604cb86637573696f7"
  },
  "kernelspec": {
   "display_name": "Python 3.8.12 64-bit ('base': conda)",
   "language": "python",
   "name": "python3"
  },
  "language_info": {
   "codemirror_mode": {
    "name": "ipython",
    "version": 3
   },
   "file_extension": ".py",
   "mimetype": "text/x-python",
   "name": "python",
   "nbconvert_exporter": "python",
   "pygments_lexer": "ipython3",
   "version": "3.8.12"
  },
  "orig_nbformat": 4
 },
 "nbformat": 4,
 "nbformat_minor": 2
}
