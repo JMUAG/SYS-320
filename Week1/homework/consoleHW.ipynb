{
 "cells": [
  {
   "cell_type": "markdown",
   "metadata": {},
   "source": [
    "# klogind Authentication IP Address"
   ]
  },
  {
   "cell_type": "code",
   "execution_count": 9,
   "metadata": {},
   "outputs": [
    {
     "name": "stdout",
     "output_type": "stream",
     "text": [
      "(163.27.187.39):\n"
     ]
    }
   ],
   "source": [
    "import LinuxLogCheck, LinuxLogklogind, LinuxLogsshd\n",
    "import importlib\n",
    "importlib.reload(LinuxLogklogind)\n",
    "importlib.reload(LinuxLogsshd)\n",
    "\n",
    "LinuxLogklogind.klogind_connect('../../logs/Linux_2k.log', ['klogind.*Authentication failed from.*'])"
   ]
  },
  {
   "cell_type": "markdown",
   "metadata": {},
   "source": [
    "# sshd Authenticated Users"
   ]
  },
  {
   "cell_type": "code",
   "execution_count": 10,
   "metadata": {},
   "outputs": [
    {
     "name": "stdout",
     "output_type": "stream",
     "text": [
      "test\n"
     ]
    }
   ],
   "source": [
    "LinuxLogsshd.sshd_connect('../../logs/Linux_2k.log', ['sshd\\(pam_unix\\).*session opened for user.*'])"
   ]
  },
  {
   "cell_type": "markdown",
   "metadata": {},
   "source": [
    "# Question 3"
   ]
  },
  {
   "cell_type": "markdown",
   "metadata": {},
   "source": [
    "What is your interpretation of the users that authenticated to SSH based on the usernames?  The context is that you are a security analyst and checking your log files for anomalies.\n",
    "\n",
    "The reason why it is necessary is because you want to be able to look for who is utilizing SSH on your system. Essentially, your user or the users that you allowed to use SSH with your system should be the only usernames that pop up. The username is important because it is one of the key identifiers for a device with an established network connection, so if someone were top be intruding or invading your security - you would be able to see it because the logs are logging any username that is present via SSH. "
   ]
  },
  {
   "cell_type": "markdown",
   "metadata": {},
   "source": [
    "# Question 4 & 5\n"
   ]
  },
  {
   "cell_type": "markdown",
   "metadata": {},
   "source": [
    "What did you like the most and the least about the lab?\n",
    "\n",
    "What I enjoyed about this lab was the ability to get my brain right back into the python mentality and workspace while not having to relearn any of the tedius commands that we learned prior. I enjoyed the fact that we were held to a standard to understand and comprehend a certain amount of python, and I love that fact that I was able to meet those expectations. I didn't really have any questions or concerns or dislikes toward this lab, but I one thing that I will say is that the wording of some of these prompts confused me and my colleague due to the fact that we both thought that the prompt was expecting different outputs, but sometimes you just gotta go with your gut."
   ]
  }
 ],
 "metadata": {
  "interpreter": {
   "hash": "34368ba4908ea1be08ba769dfb7764ab7f8ead2384ebb5604cb86637573696f7"
  },
  "kernelspec": {
   "display_name": "Python 3.8.12 64-bit ('base': conda)",
   "language": "python",
   "name": "python3"
  },
  "language_info": {
   "codemirror_mode": {
    "name": "ipython",
    "version": 3
   },
   "file_extension": ".py",
   "mimetype": "text/x-python",
   "name": "python",
   "nbconvert_exporter": "python",
   "pygments_lexer": "ipython3",
   "version": "3.8.12"
  },
  "orig_nbformat": 4
 },
 "nbformat": 4,
 "nbformat_minor": 2
}
